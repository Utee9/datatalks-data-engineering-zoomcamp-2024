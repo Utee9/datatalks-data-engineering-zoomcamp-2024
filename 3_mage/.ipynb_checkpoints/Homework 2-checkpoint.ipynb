{
 "cells": [
  {
   "cell_type": "code",
   "execution_count": 1,
   "id": "0bfcddad",
   "metadata": {},
   "outputs": [],
   "source": [
    "import pandas as pd"
   ]
  },
  {
   "cell_type": "code",
   "execution_count": 2,
   "id": "128deaaa",
   "metadata": {},
   "outputs": [
    {
     "name": "stdout",
     "output_type": "stream",
     "text": [
      "C:\\Users\\Utomi Ogbe\\Desktop\\datatalks 2024\\3_mage\\Datasets\n"
     ]
    }
   ],
   "source": [
    "cd Datasets"
   ]
  },
  {
   "cell_type": "code",
   "execution_count": 3,
   "id": "8cb66a65",
   "metadata": {},
   "outputs": [],
   "source": [
    "taxi_dtypes = {\n",
    "        'VendorID': pd.Int64Dtype(),\n",
    "        'passenger_count': pd.Int64Dtype(),\n",
    "        'trip_distance': float,\n",
    "        'RatecodeID': pd.Int64Dtype(),\n",
    "        'store_and_fwd_flag': str,\n",
    "        'PULocationID': pd.Int64Dtype(),\n",
    "        'DOLocationID': pd.Int64Dtype(),\n",
    "        'payment_type': pd.Int64Dtype(),\n",
    "        'fare_amount': float,\n",
    "        'extra': float,\n",
    "        'mta_tax': float,\n",
    "        'tip_amount': float,\n",
    "        'tolls_amount': float,\n",
    "        'improvement_surcharge': float,\n",
    "        'total_amount': float,\n",
    "        'congestion_surcharge': float \n",
    "    }\n",
    "\n",
    "parse_dates = ['lpep_pickup_datetime', 'lpep_dropoff_datetime']"
   ]
  },
  {
   "cell_type": "code",
   "execution_count": 4,
   "id": "a08f49e2",
   "metadata": {},
   "outputs": [],
   "source": [
    "greentrip_data_2020_10 = pd.read_csv('C:/Users/Utomi Ogbe/Desktop/datatalks 2024/3_mage/Datasets/green_tripdata_2020-10.csv.gz', sep=\",\", compression=\"gzip\", dtype=taxi_dtypes, parse_dates=parse_dates)\n",
    "greentrip_data_2020_11 = pd.read_csv('C:/Users/Utomi Ogbe/Desktop/datatalks 2024/3_mage/Datasets/green_tripdata_2020-11.csv.gz', sep=\",\", compression=\"gzip\", dtype=taxi_dtypes, parse_dates=parse_dates)\n",
    "greentrip_data_2020_12 = pd.read_csv('C:/Users/Utomi Ogbe/Desktop/datatalks 2024/3_mage/Datasets/green_tripdata_2020-12.csv.gz', sep=\",\", compression=\"gzip\", dtype=taxi_dtypes, parse_dates=parse_dates)"
   ]
  },
  {
   "cell_type": "code",
   "execution_count": 5,
   "id": "b565cc66",
   "metadata": {},
   "outputs": [],
   "source": [
    "greentrip_data = pd.concat([greentrip_data_2020_10, greentrip_data_2020_11, greentrip_data_2020_12])"
   ]
  },
  {
   "cell_type": "code",
   "execution_count": 6,
   "id": "a8e26acb",
   "metadata": {},
   "outputs": [
    {
     "name": "stdout",
     "output_type": "stream",
     "text": [
      "<class 'pandas.core.frame.DataFrame'>\n",
      "Int64Index: 266855 entries, 0 to 83129\n",
      "Data columns (total 20 columns):\n",
      " #   Column                 Non-Null Count   Dtype         \n",
      "---  ------                 --------------   -----         \n",
      " 0   VendorID               147393 non-null  Int64         \n",
      " 1   lpep_pickup_datetime   266855 non-null  datetime64[ns]\n",
      " 2   lpep_dropoff_datetime  266855 non-null  datetime64[ns]\n",
      " 3   store_and_fwd_flag     147393 non-null  object        \n",
      " 4   RatecodeID             147393 non-null  Int64         \n",
      " 5   PULocationID           266855 non-null  Int64         \n",
      " 6   DOLocationID           266855 non-null  Int64         \n",
      " 7   passenger_count        147393 non-null  Int64         \n",
      " 8   trip_distance          266855 non-null  float64       \n",
      " 9   fare_amount            266855 non-null  float64       \n",
      " 10  extra                  266855 non-null  float64       \n",
      " 11  mta_tax                266855 non-null  float64       \n",
      " 12  tip_amount             266855 non-null  float64       \n",
      " 13  tolls_amount           266855 non-null  float64       \n",
      " 14  ehail_fee              0 non-null       float64       \n",
      " 15  improvement_surcharge  266855 non-null  float64       \n",
      " 16  total_amount           266855 non-null  float64       \n",
      " 17  payment_type           147393 non-null  Int64         \n",
      " 18  trip_type              147393 non-null  float64       \n",
      " 19  congestion_surcharge   147393 non-null  float64       \n",
      "dtypes: Int64(6), datetime64[ns](2), float64(11), object(1)\n",
      "memory usage: 44.3+ MB\n"
     ]
    }
   ],
   "source": [
    "greentrip_data.info()"
   ]
  },
  {
   "cell_type": "code",
   "execution_count": 7,
   "id": "293f5bc4",
   "metadata": {
    "scrolled": true
   },
   "outputs": [
    {
     "data": {
      "text/html": [
       "<div>\n",
       "<style scoped>\n",
       "    .dataframe tbody tr th:only-of-type {\n",
       "        vertical-align: middle;\n",
       "    }\n",
       "\n",
       "    .dataframe tbody tr th {\n",
       "        vertical-align: top;\n",
       "    }\n",
       "\n",
       "    .dataframe thead th {\n",
       "        text-align: right;\n",
       "    }\n",
       "</style>\n",
       "<table border=\"1\" class=\"dataframe\">\n",
       "  <thead>\n",
       "    <tr style=\"text-align: right;\">\n",
       "      <th></th>\n",
       "      <th>VendorID</th>\n",
       "      <th>lpep_pickup_datetime</th>\n",
       "      <th>lpep_dropoff_datetime</th>\n",
       "      <th>store_and_fwd_flag</th>\n",
       "      <th>RatecodeID</th>\n",
       "      <th>PULocationID</th>\n",
       "      <th>DOLocationID</th>\n",
       "      <th>passenger_count</th>\n",
       "      <th>trip_distance</th>\n",
       "      <th>fare_amount</th>\n",
       "      <th>extra</th>\n",
       "      <th>mta_tax</th>\n",
       "      <th>tip_amount</th>\n",
       "      <th>tolls_amount</th>\n",
       "      <th>ehail_fee</th>\n",
       "      <th>improvement_surcharge</th>\n",
       "      <th>total_amount</th>\n",
       "      <th>payment_type</th>\n",
       "      <th>trip_type</th>\n",
       "      <th>congestion_surcharge</th>\n",
       "    </tr>\n",
       "  </thead>\n",
       "  <tbody>\n",
       "    <tr>\n",
       "      <th>0</th>\n",
       "      <td>2</td>\n",
       "      <td>2020-10-01 00:31:19</td>\n",
       "      <td>2020-10-01 00:34:55</td>\n",
       "      <td>N</td>\n",
       "      <td>1</td>\n",
       "      <td>7</td>\n",
       "      <td>7</td>\n",
       "      <td>1</td>\n",
       "      <td>0.79</td>\n",
       "      <td>5.0</td>\n",
       "      <td>0.5</td>\n",
       "      <td>0.5</td>\n",
       "      <td>1.58</td>\n",
       "      <td>0.0</td>\n",
       "      <td>NaN</td>\n",
       "      <td>0.3</td>\n",
       "      <td>7.88</td>\n",
       "      <td>1</td>\n",
       "      <td>1.0</td>\n",
       "      <td>0.0</td>\n",
       "    </tr>\n",
       "    <tr>\n",
       "      <th>1</th>\n",
       "      <td>2</td>\n",
       "      <td>2020-10-01 00:42:12</td>\n",
       "      <td>2020-10-01 00:43:51</td>\n",
       "      <td>N</td>\n",
       "      <td>1</td>\n",
       "      <td>179</td>\n",
       "      <td>7</td>\n",
       "      <td>1</td>\n",
       "      <td>0.50</td>\n",
       "      <td>4.0</td>\n",
       "      <td>0.5</td>\n",
       "      <td>0.5</td>\n",
       "      <td>0.00</td>\n",
       "      <td>0.0</td>\n",
       "      <td>NaN</td>\n",
       "      <td>0.3</td>\n",
       "      <td>5.30</td>\n",
       "      <td>2</td>\n",
       "      <td>1.0</td>\n",
       "      <td>0.0</td>\n",
       "    </tr>\n",
       "    <tr>\n",
       "      <th>2</th>\n",
       "      <td>2</td>\n",
       "      <td>2020-10-01 00:53:09</td>\n",
       "      <td>2020-10-01 00:55:39</td>\n",
       "      <td>N</td>\n",
       "      <td>1</td>\n",
       "      <td>179</td>\n",
       "      <td>223</td>\n",
       "      <td>1</td>\n",
       "      <td>0.60</td>\n",
       "      <td>4.0</td>\n",
       "      <td>0.5</td>\n",
       "      <td>0.5</td>\n",
       "      <td>1.06</td>\n",
       "      <td>0.0</td>\n",
       "      <td>NaN</td>\n",
       "      <td>0.3</td>\n",
       "      <td>6.36</td>\n",
       "      <td>1</td>\n",
       "      <td>1.0</td>\n",
       "      <td>0.0</td>\n",
       "    </tr>\n",
       "    <tr>\n",
       "      <th>3</th>\n",
       "      <td>1</td>\n",
       "      <td>2020-10-01 00:12:29</td>\n",
       "      <td>2020-10-01 00:20:08</td>\n",
       "      <td>N</td>\n",
       "      <td>1</td>\n",
       "      <td>134</td>\n",
       "      <td>216</td>\n",
       "      <td>2</td>\n",
       "      <td>4.40</td>\n",
       "      <td>13.5</td>\n",
       "      <td>0.5</td>\n",
       "      <td>0.5</td>\n",
       "      <td>0.00</td>\n",
       "      <td>0.0</td>\n",
       "      <td>NaN</td>\n",
       "      <td>0.3</td>\n",
       "      <td>14.80</td>\n",
       "      <td>2</td>\n",
       "      <td>1.0</td>\n",
       "      <td>0.0</td>\n",
       "    </tr>\n",
       "    <tr>\n",
       "      <th>4</th>\n",
       "      <td>1</td>\n",
       "      <td>2020-10-01 00:32:38</td>\n",
       "      <td>2020-10-01 00:43:02</td>\n",
       "      <td>N</td>\n",
       "      <td>1</td>\n",
       "      <td>82</td>\n",
       "      <td>7</td>\n",
       "      <td>1</td>\n",
       "      <td>2.90</td>\n",
       "      <td>10.5</td>\n",
       "      <td>0.5</td>\n",
       "      <td>0.5</td>\n",
       "      <td>0.00</td>\n",
       "      <td>0.0</td>\n",
       "      <td>NaN</td>\n",
       "      <td>0.3</td>\n",
       "      <td>11.80</td>\n",
       "      <td>2</td>\n",
       "      <td>1.0</td>\n",
       "      <td>0.0</td>\n",
       "    </tr>\n",
       "  </tbody>\n",
       "</table>\n",
       "</div>"
      ],
      "text/plain": [
       "   VendorID lpep_pickup_datetime lpep_dropoff_datetime store_and_fwd_flag  \\\n",
       "0         2  2020-10-01 00:31:19   2020-10-01 00:34:55                  N   \n",
       "1         2  2020-10-01 00:42:12   2020-10-01 00:43:51                  N   \n",
       "2         2  2020-10-01 00:53:09   2020-10-01 00:55:39                  N   \n",
       "3         1  2020-10-01 00:12:29   2020-10-01 00:20:08                  N   \n",
       "4         1  2020-10-01 00:32:38   2020-10-01 00:43:02                  N   \n",
       "\n",
       "   RatecodeID  PULocationID  DOLocationID  passenger_count  trip_distance  \\\n",
       "0           1             7             7                1           0.79   \n",
       "1           1           179             7                1           0.50   \n",
       "2           1           179           223                1           0.60   \n",
       "3           1           134           216                2           4.40   \n",
       "4           1            82             7                1           2.90   \n",
       "\n",
       "   fare_amount  extra  mta_tax  tip_amount  tolls_amount  ehail_fee  \\\n",
       "0          5.0    0.5      0.5        1.58           0.0        NaN   \n",
       "1          4.0    0.5      0.5        0.00           0.0        NaN   \n",
       "2          4.0    0.5      0.5        1.06           0.0        NaN   \n",
       "3         13.5    0.5      0.5        0.00           0.0        NaN   \n",
       "4         10.5    0.5      0.5        0.00           0.0        NaN   \n",
       "\n",
       "   improvement_surcharge  total_amount  payment_type  trip_type  \\\n",
       "0                    0.3          7.88             1        1.0   \n",
       "1                    0.3          5.30             2        1.0   \n",
       "2                    0.3          6.36             1        1.0   \n",
       "3                    0.3         14.80             2        1.0   \n",
       "4                    0.3         11.80             2        1.0   \n",
       "\n",
       "   congestion_surcharge  \n",
       "0                   0.0  \n",
       "1                   0.0  \n",
       "2                   0.0  \n",
       "3                   0.0  \n",
       "4                   0.0  "
      ]
     },
     "execution_count": 7,
     "metadata": {},
     "output_type": "execute_result"
    }
   ],
   "source": [
    "greentrip_data.head()"
   ]
  },
  {
   "cell_type": "code",
   "execution_count": 8,
   "id": "cfca4a8d",
   "metadata": {},
   "outputs": [],
   "source": [
    "greentrip_data = greentrip_data[(greentrip_data['passenger_count'] > 0) & (greentrip_data['trip_distance'] > 0)]"
   ]
  },
  {
   "cell_type": "code",
   "execution_count": 9,
   "id": "40613f8e",
   "metadata": {},
   "outputs": [],
   "source": [
    "greentrip_data['lpep_pickup_date'] = greentrip_data['lpep_pickup_datetime'].dt.date\n",
    "# greentrip_data['lpep_dropoff_datetime'] = greentrip_data['lpep_pickup_datetime'].dt.date"
   ]
  },
  {
   "cell_type": "code",
   "execution_count": 10,
   "id": "705f6682",
   "metadata": {},
   "outputs": [],
   "source": [
    "greentrip_data.columns = (greentrip_data.columns\n",
    "                    .str.replace(' ', '_')\n",
    "                    .str.lower()\n",
    "    )"
   ]
  },
  {
   "cell_type": "code",
   "execution_count": 11,
   "id": "2315eb2e",
   "metadata": {},
   "outputs": [
    {
     "name": "stdout",
     "output_type": "stream",
     "text": [
      "<class 'pandas.core.frame.DataFrame'>\n",
      "Int64Index: 139370 entries, 0 to 46291\n",
      "Data columns (total 21 columns):\n",
      " #   Column                 Non-Null Count   Dtype         \n",
      "---  ------                 --------------   -----         \n",
      " 0   vendorid               139370 non-null  Int64         \n",
      " 1   lpep_pickup_datetime   139370 non-null  datetime64[ns]\n",
      " 2   lpep_dropoff_datetime  139370 non-null  datetime64[ns]\n",
      " 3   store_and_fwd_flag     139370 non-null  object        \n",
      " 4   ratecodeid             139370 non-null  Int64         \n",
      " 5   pulocationid           139370 non-null  Int64         \n",
      " 6   dolocationid           139370 non-null  Int64         \n",
      " 7   passenger_count        139370 non-null  Int64         \n",
      " 8   trip_distance          139370 non-null  float64       \n",
      " 9   fare_amount            139370 non-null  float64       \n",
      " 10  extra                  139370 non-null  float64       \n",
      " 11  mta_tax                139370 non-null  float64       \n",
      " 12  tip_amount             139370 non-null  float64       \n",
      " 13  tolls_amount           139370 non-null  float64       \n",
      " 14  ehail_fee              0 non-null       float64       \n",
      " 15  improvement_surcharge  139370 non-null  float64       \n",
      " 16  total_amount           139370 non-null  float64       \n",
      " 17  payment_type           139370 non-null  Int64         \n",
      " 18  trip_type              139370 non-null  float64       \n",
      " 19  congestion_surcharge   139370 non-null  float64       \n",
      " 20  lpep_pickup_date       139370 non-null  object        \n",
      "dtypes: Int64(6), datetime64[ns](2), float64(11), object(2)\n",
      "memory usage: 24.2+ MB\n"
     ]
    }
   ],
   "source": [
    "greentrip_data.info()"
   ]
  },
  {
   "cell_type": "code",
   "execution_count": 12,
   "id": "d1c796c0",
   "metadata": {},
   "outputs": [],
   "source": [
    "# assert ['vendor_id'].isin(greentrip_data.columns), 'There is no vendor_id column'\n",
    "assert greentrip_data['passenger_count'].isin([0]).sum() == 0, 'There are rides with zero passengers'\n",
    "assert greentrip_data['trip_distance'].isin([0]).sum() == 0, 'There are rides with zero distance'"
   ]
  },
  {
   "cell_type": "code",
   "execution_count": null,
   "id": "3ad5851a",
   "metadata": {},
   "outputs": [],
   "source": []
  }
 ],
 "metadata": {
  "kernelspec": {
   "display_name": "Python 3 (ipykernel)",
   "language": "python",
   "name": "python3"
  },
  "language_info": {
   "codemirror_mode": {
    "name": "ipython",
    "version": 3
   },
   "file_extension": ".py",
   "mimetype": "text/x-python",
   "name": "python",
   "nbconvert_exporter": "python",
   "pygments_lexer": "ipython3",
   "version": "3.10.4"
  }
 },
 "nbformat": 4,
 "nbformat_minor": 5
}
